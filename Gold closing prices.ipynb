{
 "cells": [
  {
   "cell_type": "code",
   "execution_count": 1,
   "metadata": {},
   "outputs": [],
   "source": [
    "import pandas as pd\n",
    "import seaborn as sb\n",
    "import matplotlib.pyplot as plt\n",
    "plt.style.use('seaborn')"
   ]
  },
  {
   "cell_type": "markdown",
   "metadata": {},
   "source": [
    "# Data Input"
   ]
  },
  {
   "cell_type": "code",
   "execution_count": 2,
   "metadata": {},
   "outputs": [
    {
     "data": {
      "text/html": [
       "<div>\n",
       "<style scoped>\n",
       "    .dataframe tbody tr th:only-of-type {\n",
       "        vertical-align: middle;\n",
       "    }\n",
       "\n",
       "    .dataframe tbody tr th {\n",
       "        vertical-align: top;\n",
       "    }\n",
       "\n",
       "    .dataframe thead th {\n",
       "        text-align: right;\n",
       "    }\n",
       "</style>\n",
       "<table border=\"1\" class=\"dataframe\">\n",
       "  <thead>\n",
       "    <tr style=\"text-align: right;\">\n",
       "      <th></th>\n",
       "      <th>Date</th>\n",
       "      <th>Open</th>\n",
       "      <th>High</th>\n",
       "      <th>Low</th>\n",
       "      <th>Close</th>\n",
       "      <th>Adj Close</th>\n",
       "      <th>Volume</th>\n",
       "    </tr>\n",
       "  </thead>\n",
       "  <tbody>\n",
       "    <tr>\n",
       "      <td>0</td>\n",
       "      <td>2015-05-04</td>\n",
       "      <td>1177.500000</td>\n",
       "      <td>1189.400024</td>\n",
       "      <td>1177.500000</td>\n",
       "      <td>1186.800049</td>\n",
       "      <td>1186.800049</td>\n",
       "      <td>23.0</td>\n",
       "    </tr>\n",
       "    <tr>\n",
       "      <td>1</td>\n",
       "      <td>2015-05-05</td>\n",
       "      <td>1187.500000</td>\n",
       "      <td>1198.699951</td>\n",
       "      <td>1186.900024</td>\n",
       "      <td>1193.199951</td>\n",
       "      <td>1193.199951</td>\n",
       "      <td>38.0</td>\n",
       "    </tr>\n",
       "    <tr>\n",
       "      <td>2</td>\n",
       "      <td>2015-05-06</td>\n",
       "      <td>1194.500000</td>\n",
       "      <td>1194.599976</td>\n",
       "      <td>1189.900024</td>\n",
       "      <td>1190.300049</td>\n",
       "      <td>1190.300049</td>\n",
       "      <td>48.0</td>\n",
       "    </tr>\n",
       "    <tr>\n",
       "      <td>3</td>\n",
       "      <td>2015-05-07</td>\n",
       "      <td>1181.500000</td>\n",
       "      <td>1186.000000</td>\n",
       "      <td>1179.699951</td>\n",
       "      <td>1182.400024</td>\n",
       "      <td>1182.400024</td>\n",
       "      <td>14.0</td>\n",
       "    </tr>\n",
       "    <tr>\n",
       "      <td>4</td>\n",
       "      <td>2015-05-08</td>\n",
       "      <td>1183.300049</td>\n",
       "      <td>1189.099976</td>\n",
       "      <td>1182.900024</td>\n",
       "      <td>1189.099976</td>\n",
       "      <td>1189.099976</td>\n",
       "      <td>44.0</td>\n",
       "    </tr>\n",
       "    <tr>\n",
       "      <td>6</td>\n",
       "      <td>2015-05-11</td>\n",
       "      <td>1189.699951</td>\n",
       "      <td>1190.500000</td>\n",
       "      <td>1179.300049</td>\n",
       "      <td>1183.199951</td>\n",
       "      <td>1183.199951</td>\n",
       "      <td>51.0</td>\n",
       "    </tr>\n",
       "    <tr>\n",
       "      <td>7</td>\n",
       "      <td>2015-05-12</td>\n",
       "      <td>1194.599976</td>\n",
       "      <td>1194.800049</td>\n",
       "      <td>1189.699951</td>\n",
       "      <td>1192.599976</td>\n",
       "      <td>1192.599976</td>\n",
       "      <td>26.0</td>\n",
       "    </tr>\n",
       "    <tr>\n",
       "      <td>8</td>\n",
       "      <td>2015-05-13</td>\n",
       "      <td>1192.699951</td>\n",
       "      <td>1218.400024</td>\n",
       "      <td>1191.000000</td>\n",
       "      <td>1218.400024</td>\n",
       "      <td>1218.400024</td>\n",
       "      <td>10.0</td>\n",
       "    </tr>\n",
       "    <tr>\n",
       "      <td>9</td>\n",
       "      <td>2015-05-14</td>\n",
       "      <td>1214.500000</td>\n",
       "      <td>1225.599976</td>\n",
       "      <td>1214.500000</td>\n",
       "      <td>1225.400024</td>\n",
       "      <td>1225.400024</td>\n",
       "      <td>34.0</td>\n",
       "    </tr>\n",
       "    <tr>\n",
       "      <td>10</td>\n",
       "      <td>2015-05-15</td>\n",
       "      <td>1218.500000</td>\n",
       "      <td>1225.500000</td>\n",
       "      <td>1214.800049</td>\n",
       "      <td>1225.500000</td>\n",
       "      <td>1225.500000</td>\n",
       "      <td>35.0</td>\n",
       "    </tr>\n",
       "  </tbody>\n",
       "</table>\n",
       "</div>"
      ],
      "text/plain": [
       "          Date         Open         High          Low        Close  \\\n",
       "0   2015-05-04  1177.500000  1189.400024  1177.500000  1186.800049   \n",
       "1   2015-05-05  1187.500000  1198.699951  1186.900024  1193.199951   \n",
       "2   2015-05-06  1194.500000  1194.599976  1189.900024  1190.300049   \n",
       "3   2015-05-07  1181.500000  1186.000000  1179.699951  1182.400024   \n",
       "4   2015-05-08  1183.300049  1189.099976  1182.900024  1189.099976   \n",
       "6   2015-05-11  1189.699951  1190.500000  1179.300049  1183.199951   \n",
       "7   2015-05-12  1194.599976  1194.800049  1189.699951  1192.599976   \n",
       "8   2015-05-13  1192.699951  1218.400024  1191.000000  1218.400024   \n",
       "9   2015-05-14  1214.500000  1225.599976  1214.500000  1225.400024   \n",
       "10  2015-05-15  1218.500000  1225.500000  1214.800049  1225.500000   \n",
       "\n",
       "      Adj Close  Volume  \n",
       "0   1186.800049    23.0  \n",
       "1   1193.199951    38.0  \n",
       "2   1190.300049    48.0  \n",
       "3   1182.400024    14.0  \n",
       "4   1189.099976    44.0  \n",
       "6   1183.199951    51.0  \n",
       "7   1192.599976    26.0  \n",
       "8   1218.400024    10.0  \n",
       "9   1225.400024    34.0  \n",
       "10  1225.500000    35.0  "
      ]
     },
     "execution_count": 2,
     "metadata": {},
     "output_type": "execute_result"
    }
   ],
   "source": [
    "df=pd.read_csv('data.csv')\n",
    "df.dropna(inplace=True)\n",
    "df.head(10)"
   ]
  },
  {
   "cell_type": "markdown",
   "metadata": {},
   "source": [
    "# Visualization"
   ]
  },
  {
   "cell_type": "code",
   "execution_count": 3,
   "metadata": {},
   "outputs": [
    {
     "data": {
      "image/png": "[encoded data removed]",
      "text/plain": [
       "<Figure size 720x360 with 2 Axes>"
      ]
     },
     "metadata": {
      "needs_background": "light"
     },
     "output_type": "display_data"
    }
   ],
   "source": [
    "a=df.corr()\n",
    "plt.figure(figsize=(10,5))\n",
    "sb.heatmap(a)\n",
    "ax=plt.gca()\n",
    "ymin,ymax=ax.get_ylim()\n",
    "ax.set_ylim([ymin+0.5,ymax-0.5]);"
   ]
  },
  {
   "cell_type": "markdown",
   "metadata": {},
   "source": [
    "# Preprocessing"
   ]
  },
  {
   "cell_type": "markdown",
   "metadata": {},
   "source": [
    "### Removing useless attributes"
   ]
  },
  {
   "cell_type": "code",
   "execution_count": 4,
   "metadata": {},
   "outputs": [
    {
     "data": {
      "text/html": [
       "<div>\n",
       "<style scoped>\n",
       "    .dataframe tbody tr th:only-of-type {\n",
       "        vertical-align: middle;\n",
       "    }\n",
       "\n",
       "    .dataframe tbody tr th {\n",
       "        vertical-align: top;\n",
       "    }\n",
       "\n",
       "    .dataframe thead th {\n",
       "        text-align: right;\n",
       "    }\n",
       "</style>\n",
       "<table border=\"1\" class=\"dataframe\">\n",
       "  <thead>\n",
       "    <tr style=\"text-align: right;\">\n",
       "      <th></th>\n",
       "      <th>Date</th>\n",
       "      <th>Open</th>\n",
       "      <th>High</th>\n",
       "      <th>Low</th>\n",
       "      <th>Close</th>\n",
       "    </tr>\n",
       "  </thead>\n",
       "  <tbody>\n",
       "    <tr>\n",
       "      <td>0</td>\n",
       "      <td>2015-05-04</td>\n",
       "      <td>1177.500000</td>\n",
       "      <td>1189.400024</td>\n",
       "      <td>1177.500000</td>\n",
       "      <td>1186.800049</td>\n",
       "    </tr>\n",
       "    <tr>\n",
       "      <td>1</td>\n",
       "      <td>2015-05-05</td>\n",
       "      <td>1187.500000</td>\n",
       "      <td>1198.699951</td>\n",
       "      <td>1186.900024</td>\n",
       "      <td>1193.199951</td>\n",
       "    </tr>\n",
       "    <tr>\n",
       "      <td>2</td>\n",
       "      <td>2015-05-06</td>\n",
       "      <td>1194.500000</td>\n",
       "      <td>1194.599976</td>\n",
       "      <td>1189.900024</td>\n",
       "      <td>1190.300049</td>\n",
       "    </tr>\n",
       "    <tr>\n",
       "      <td>3</td>\n",
       "      <td>2015-05-07</td>\n",
       "      <td>1181.500000</td>\n",
       "      <td>1186.000000</td>\n",
       "      <td>1179.699951</td>\n",
       "      <td>1182.400024</td>\n",
       "    </tr>\n",
       "    <tr>\n",
       "      <td>4</td>\n",
       "      <td>2015-05-08</td>\n",
       "      <td>1183.300049</td>\n",
       "      <td>1189.099976</td>\n",
       "      <td>1182.900024</td>\n",
       "      <td>1189.099976</td>\n",
       "    </tr>\n",
       "    <tr>\n",
       "      <td>...</td>\n",
       "      <td>...</td>\n",
       "      <td>...</td>\n",
       "      <td>...</td>\n",
       "      <td>...</td>\n",
       "      <td>...</td>\n",
       "    </tr>\n",
       "    <tr>\n",
       "      <td>1514</td>\n",
       "      <td>2020-04-27</td>\n",
       "      <td>1742.300049</td>\n",
       "      <td>1745.800049</td>\n",
       "      <td>1717.000000</td>\n",
       "      <td>1720.300049</td>\n",
       "    </tr>\n",
       "    <tr>\n",
       "      <td>1515</td>\n",
       "      <td>2020-04-28</td>\n",
       "      <td>1713.000000</td>\n",
       "      <td>1731.900024</td>\n",
       "      <td>1704.099976</td>\n",
       "      <td>1721.000000</td>\n",
       "    </tr>\n",
       "    <tr>\n",
       "      <td>1516</td>\n",
       "      <td>2020-04-29</td>\n",
       "      <td>1726.199951</td>\n",
       "      <td>1733.500000</td>\n",
       "      <td>1708.199951</td>\n",
       "      <td>1731.800049</td>\n",
       "    </tr>\n",
       "    <tr>\n",
       "      <td>1517</td>\n",
       "      <td>2020-04-30</td>\n",
       "      <td>1729.500000</td>\n",
       "      <td>1737.000000</td>\n",
       "      <td>1687.500000</td>\n",
       "      <td>1695.400024</td>\n",
       "    </tr>\n",
       "    <tr>\n",
       "      <td>1518</td>\n",
       "      <td>2020-05-01</td>\n",
       "      <td>1693.500000</td>\n",
       "      <td>1714.400024</td>\n",
       "      <td>1676.000000</td>\n",
       "      <td>1694.199951</td>\n",
       "    </tr>\n",
       "  </tbody>\n",
       "</table>\n",
       "<p>1317 rows × 5 columns</p>\n",
       "</div>"
      ],
      "text/plain": [
       "            Date         Open         High          Low        Close\n",
       "0     2015-05-04  1177.500000  1189.400024  1177.500000  1186.800049\n",
       "1     2015-05-05  1187.500000  1198.699951  1186.900024  1193.199951\n",
       "2     2015-05-06  1194.500000  1194.599976  1189.900024  1190.300049\n",
       "3     2015-05-07  1181.500000  1186.000000  1179.699951  1182.400024\n",
       "4     2015-05-08  1183.300049  1189.099976  1182.900024  1189.099976\n",
       "...          ...          ...          ...          ...          ...\n",
       "1514  2020-04-27  1742.300049  1745.800049  1717.000000  1720.300049\n",
       "1515  2020-04-28  1713.000000  1731.900024  1704.099976  1721.000000\n",
       "1516  2020-04-29  1726.199951  1733.500000  1708.199951  1731.800049\n",
       "1517  2020-04-30  1729.500000  1737.000000  1687.500000  1695.400024\n",
       "1518  2020-05-01  1693.500000  1714.400024  1676.000000  1694.199951\n",
       "\n",
       "[1317 rows x 5 columns]"
      ]
     },
     "execution_count": 4,
     "metadata": {},
     "output_type": "execute_result"
    }
   ],
   "source": [
    "df.drop(columns=['Volume', 'Adj Close'], inplace=True)\n",
    "df"
   ]
  },
  {
   "cell_type": "markdown",
   "metadata": {},
   "source": [
    "### Train and Test "
   ]
  },
  {
   "cell_type": "code",
   "execution_count": 5,
   "metadata": {},
   "outputs": [],
   "source": [
    "from sklearn.model_selection import train_test_split "
   ]
  },
  {
   "cell_type": "code",
   "execution_count": 6,
   "metadata": {},
   "outputs": [],
   "source": [
    "X, y = df[df.columns[:-1]], df[df.columns[-1]]"
   ]
  },
  {
   "cell_type": "code",
   "execution_count": 7,
   "metadata": {},
   "outputs": [],
   "source": [
    "X_train, X_test, y_train, y_test = train_test_split(X, y, random_state=0)"
   ]
  },
  {
   "cell_type": "code",
   "execution_count": 8,
   "metadata": {},
   "outputs": [
    {
     "data": {
      "text/html": [
       "<div>\n",
       "<style scoped>\n",
       "    .dataframe tbody tr th:only-of-type {\n",
       "        vertical-align: middle;\n",
       "    }\n",
       "\n",
       "    .dataframe tbody tr th {\n",
       "        vertical-align: top;\n",
       "    }\n",
       "\n",
       "    .dataframe thead th {\n",
       "        text-align: right;\n",
       "    }\n",
       "</style>\n",
       "<table border=\"1\" class=\"dataframe\">\n",
       "  <thead>\n",
       "    <tr style=\"text-align: right;\">\n",
       "      <th></th>\n",
       "      <th>Date</th>\n",
       "      <th>Open</th>\n",
       "      <th>High</th>\n",
       "      <th>Low</th>\n",
       "    </tr>\n",
       "  </thead>\n",
       "  <tbody>\n",
       "    <tr>\n",
       "      <td>226</td>\n",
       "      <td>2016-01-29</td>\n",
       "      <td>1114.400024</td>\n",
       "      <td>1118.599976</td>\n",
       "      <td>1108.800049</td>\n",
       "    </tr>\n",
       "    <tr>\n",
       "      <td>231</td>\n",
       "      <td>2016-02-04</td>\n",
       "      <td>1142.500000</td>\n",
       "      <td>1157.599976</td>\n",
       "      <td>1141.000000</td>\n",
       "    </tr>\n",
       "    <tr>\n",
       "      <td>124</td>\n",
       "      <td>2015-09-29</td>\n",
       "      <td>1132.199951</td>\n",
       "      <td>1134.400024</td>\n",
       "      <td>1124.300049</td>\n",
       "    </tr>\n",
       "    <tr>\n",
       "      <td>590</td>\n",
       "      <td>2017-04-11</td>\n",
       "      <td>1254.500000</td>\n",
       "      <td>1273.500000</td>\n",
       "      <td>1254.500000</td>\n",
       "    </tr>\n",
       "    <tr>\n",
       "      <td>72</td>\n",
       "      <td>2015-07-29</td>\n",
       "      <td>1096.400024</td>\n",
       "      <td>1096.900024</td>\n",
       "      <td>1092.699951</td>\n",
       "    </tr>\n",
       "    <tr>\n",
       "      <td>...</td>\n",
       "      <td>...</td>\n",
       "      <td>...</td>\n",
       "      <td>...</td>\n",
       "      <td>...</td>\n",
       "    </tr>\n",
       "    <tr>\n",
       "      <td>927</td>\n",
       "      <td>2018-05-21</td>\n",
       "      <td>1287.400024</td>\n",
       "      <td>1292.099976</td>\n",
       "      <td>1287.400024</td>\n",
       "    </tr>\n",
       "    <tr>\n",
       "      <td>1015</td>\n",
       "      <td>2018-09-04</td>\n",
       "      <td>1193.800049</td>\n",
       "      <td>1193.800049</td>\n",
       "      <td>1189.900024</td>\n",
       "    </tr>\n",
       "    <tr>\n",
       "      <td>1417</td>\n",
       "      <td>2019-12-31</td>\n",
       "      <td>1513.800049</td>\n",
       "      <td>1523.400024</td>\n",
       "      <td>1513.800049</td>\n",
       "    </tr>\n",
       "    <tr>\n",
       "      <td>678</td>\n",
       "      <td>2017-07-26</td>\n",
       "      <td>1244.800049</td>\n",
       "      <td>1249.000000</td>\n",
       "      <td>1244.800049</td>\n",
       "    </tr>\n",
       "    <tr>\n",
       "      <td>830</td>\n",
       "      <td>2018-01-25</td>\n",
       "      <td>1356.300049</td>\n",
       "      <td>1362.400024</td>\n",
       "      <td>1346.699951</td>\n",
       "    </tr>\n",
       "  </tbody>\n",
       "</table>\n",
       "<p>987 rows × 4 columns</p>\n",
       "</div>"
      ],
      "text/plain": [
       "            Date         Open         High          Low\n",
       "226   2016-01-29  1114.400024  1118.599976  1108.800049\n",
       "231   2016-02-04  1142.500000  1157.599976  1141.000000\n",
       "124   2015-09-29  1132.199951  1134.400024  1124.300049\n",
       "590   2017-04-11  1254.500000  1273.500000  1254.500000\n",
       "72    2015-07-29  1096.400024  1096.900024  1092.699951\n",
       "...          ...          ...          ...          ...\n",
       "927   2018-05-21  1287.400024  1292.099976  1287.400024\n",
       "1015  2018-09-04  1193.800049  1193.800049  1189.900024\n",
       "1417  2019-12-31  1513.800049  1523.400024  1513.800049\n",
       "678   2017-07-26  1244.800049  1249.000000  1244.800049\n",
       "830   2018-01-25  1356.300049  1362.400024  1346.699951\n",
       "\n",
       "[987 rows x 4 columns]"
      ]
     },
     "execution_count": 8,
     "metadata": {},
     "output_type": "execute_result"
    }
   ],
   "source": [
    "X_train"
   ]
  },
  {
   "cell_type": "markdown",
   "metadata": {},
   "source": [
    "### Scaling"
   ]
  },
  {
   "cell_type": "code",
   "execution_count": 9,
   "metadata": {},
   "outputs": [],
   "source": [
    "from sklearn.preprocessing import MinMaxScaler"
   ]
  },
  {
   "cell_type": "code",
   "execution_count": 10,
   "metadata": {},
   "outputs": [
    {
     "data": {
      "text/html": [
       "<div>\n",
       "<style scoped>\n",
       "    .dataframe tbody tr th:only-of-type {\n",
       "        vertical-align: middle;\n",
       "    }\n",
       "\n",
       "    .dataframe tbody tr th {\n",
       "        vertical-align: top;\n",
       "    }\n",
       "\n",
       "    .dataframe thead th {\n",
       "        text-align: right;\n",
       "    }\n",
       "</style>\n",
       "<table border=\"1\" class=\"dataframe\">\n",
       "  <thead>\n",
       "    <tr style=\"text-align: right;\">\n",
       "      <th></th>\n",
       "      <th>Open</th>\n",
       "      <th>High</th>\n",
       "      <th>Low</th>\n",
       "      <th>Date</th>\n",
       "    </tr>\n",
       "  </thead>\n",
       "  <tbody>\n",
       "    <tr>\n",
       "      <td>226</td>\n",
       "      <td>0.625856</td>\n",
       "      <td>0.625335</td>\n",
       "      <td>0.638710</td>\n",
       "      <td>2016-01-29</td>\n",
       "    </tr>\n",
       "    <tr>\n",
       "      <td>231</td>\n",
       "      <td>0.641638</td>\n",
       "      <td>0.647138</td>\n",
       "      <td>0.657258</td>\n",
       "      <td>2016-02-04</td>\n",
       "    </tr>\n",
       "    <tr>\n",
       "      <td>124</td>\n",
       "      <td>0.635853</td>\n",
       "      <td>0.634168</td>\n",
       "      <td>0.647638</td>\n",
       "      <td>2015-09-29</td>\n",
       "    </tr>\n",
       "    <tr>\n",
       "      <td>590</td>\n",
       "      <td>0.704538</td>\n",
       "      <td>0.711930</td>\n",
       "      <td>0.722638</td>\n",
       "      <td>2017-04-11</td>\n",
       "    </tr>\n",
       "    <tr>\n",
       "      <td>72</td>\n",
       "      <td>0.615748</td>\n",
       "      <td>0.613204</td>\n",
       "      <td>0.629435</td>\n",
       "      <td>2015-07-29</td>\n",
       "    </tr>\n",
       "    <tr>\n",
       "      <td>...</td>\n",
       "      <td>...</td>\n",
       "      <td>...</td>\n",
       "      <td>...</td>\n",
       "      <td>...</td>\n",
       "    </tr>\n",
       "    <tr>\n",
       "      <td>927</td>\n",
       "      <td>0.723015</td>\n",
       "      <td>0.722328</td>\n",
       "      <td>0.741590</td>\n",
       "      <td>2018-05-21</td>\n",
       "    </tr>\n",
       "    <tr>\n",
       "      <td>1015</td>\n",
       "      <td>0.670448</td>\n",
       "      <td>0.667375</td>\n",
       "      <td>0.685426</td>\n",
       "      <td>2018-09-04</td>\n",
       "    </tr>\n",
       "    <tr>\n",
       "      <td>1417</td>\n",
       "      <td>0.850163</td>\n",
       "      <td>0.851632</td>\n",
       "      <td>0.872005</td>\n",
       "      <td>2019-12-31</td>\n",
       "    </tr>\n",
       "    <tr>\n",
       "      <td>678</td>\n",
       "      <td>0.699090</td>\n",
       "      <td>0.698233</td>\n",
       "      <td>0.717051</td>\n",
       "      <td>2017-07-26</td>\n",
       "    </tr>\n",
       "    <tr>\n",
       "      <td>830</td>\n",
       "      <td>0.761710</td>\n",
       "      <td>0.761628</td>\n",
       "      <td>0.775749</td>\n",
       "      <td>2018-01-25</td>\n",
       "    </tr>\n",
       "  </tbody>\n",
       "</table>\n",
       "<p>987 rows × 4 columns</p>\n",
       "</div>"
      ],
      "text/plain": [
       "          Open      High       Low        Date\n",
       "226   0.625856  0.625335  0.638710  2016-01-29\n",
       "231   0.641638  0.647138  0.657258  2016-02-04\n",
       "124   0.635853  0.634168  0.647638  2015-09-29\n",
       "590   0.704538  0.711930  0.722638  2017-04-11\n",
       "72    0.615748  0.613204  0.629435  2015-07-29\n",
       "...        ...       ...       ...         ...\n",
       "927   0.723015  0.722328  0.741590  2018-05-21\n",
       "1015  0.670448  0.667375  0.685426  2018-09-04\n",
       "1417  0.850163  0.851632  0.872005  2019-12-31\n",
       "678   0.699090  0.698233  0.717051  2017-07-26\n",
       "830   0.761710  0.761628  0.775749  2018-01-25\n",
       "\n",
       "[987 rows x 4 columns]"
      ]
     },
     "execution_count": 10,
     "metadata": {},
     "output_type": "execute_result"
    }
   ],
   "source": [
    "X_train2vals= MinMaxScaler().fit_transform(X_train[['Open', 'High', 'Low']])\n",
    "X_train2 = pd.DataFrame(X_train2vals, columns = ['Open', 'High', 'Low'])\n",
    "X_train2.index = X_train.index\n",
    "X_train2['Date']=(X_train['Date'])\n",
    "X_train2"
   ]
  },
  {
   "cell_type": "code",
   "execution_count": 11,
   "metadata": {},
   "outputs": [
    {
     "data": {
      "text/html": [
       "<div>\n",
       "<style scoped>\n",
       "    .dataframe tbody tr th:only-of-type {\n",
       "        vertical-align: middle;\n",
       "    }\n",
       "\n",
       "    .dataframe tbody tr th {\n",
       "        vertical-align: top;\n",
       "    }\n",
       "\n",
       "    .dataframe thead th {\n",
       "        text-align: right;\n",
       "    }\n",
       "</style>\n",
       "<table border=\"1\" class=\"dataframe\">\n",
       "  <thead>\n",
       "    <tr style=\"text-align: right;\">\n",
       "      <th></th>\n",
       "      <th>Open</th>\n",
       "      <th>High</th>\n",
       "      <th>Low</th>\n",
       "      <th>Date</th>\n",
       "    </tr>\n",
       "  </thead>\n",
       "  <tbody>\n",
       "    <tr>\n",
       "      <td>1445</td>\n",
       "      <td>0.903608</td>\n",
       "      <td>0.889948</td>\n",
       "      <td>0.891025</td>\n",
       "      <td>2020-02-04</td>\n",
       "    </tr>\n",
       "    <tr>\n",
       "      <td>1207</td>\n",
       "      <td>0.726460</td>\n",
       "      <td>0.719483</td>\n",
       "      <td>0.729837</td>\n",
       "      <td>2019-04-24</td>\n",
       "    </tr>\n",
       "    <tr>\n",
       "      <td>1088</td>\n",
       "      <td>0.699313</td>\n",
       "      <td>0.693084</td>\n",
       "      <td>0.702608</td>\n",
       "      <td>2018-11-29</td>\n",
       "    </tr>\n",
       "    <tr>\n",
       "      <td>612</td>\n",
       "      <td>0.701031</td>\n",
       "      <td>0.696074</td>\n",
       "      <td>0.704623</td>\n",
       "      <td>2017-05-08</td>\n",
       "    </tr>\n",
       "    <tr>\n",
       "      <td>171</td>\n",
       "      <td>0.612829</td>\n",
       "      <td>0.604411</td>\n",
       "      <td>0.614127</td>\n",
       "      <td>2015-11-23</td>\n",
       "    </tr>\n",
       "    <tr>\n",
       "      <td>...</td>\n",
       "      <td>...</td>\n",
       "      <td>...</td>\n",
       "      <td>...</td>\n",
       "      <td>...</td>\n",
       "    </tr>\n",
       "    <tr>\n",
       "      <td>1321</td>\n",
       "      <td>0.868499</td>\n",
       "      <td>0.855370</td>\n",
       "      <td>0.870128</td>\n",
       "      <td>2019-09-08</td>\n",
       "    </tr>\n",
       "    <tr>\n",
       "      <td>1377</td>\n",
       "      <td>0.833276</td>\n",
       "      <td>0.820679</td>\n",
       "      <td>0.833055</td>\n",
       "      <td>2019-11-12</td>\n",
       "    </tr>\n",
       "    <tr>\n",
       "      <td>743</td>\n",
       "      <td>0.737285</td>\n",
       "      <td>0.728791</td>\n",
       "      <td>0.739681</td>\n",
       "      <td>2017-10-11</td>\n",
       "    </tr>\n",
       "    <tr>\n",
       "      <td>1173</td>\n",
       "      <td>0.740779</td>\n",
       "      <td>0.729580</td>\n",
       "      <td>0.744574</td>\n",
       "      <td>2019-03-14</td>\n",
       "    </tr>\n",
       "    <tr>\n",
       "      <td>1298</td>\n",
       "      <td>0.864376</td>\n",
       "      <td>0.853396</td>\n",
       "      <td>0.866502</td>\n",
       "      <td>2019-08-11</td>\n",
       "    </tr>\n",
       "  </tbody>\n",
       "</table>\n",
       "<p>330 rows × 4 columns</p>\n",
       "</div>"
      ],
      "text/plain": [
       "          Open      High       Low        Date\n",
       "1445  0.903608  0.889948  0.891025  2020-02-04\n",
       "1207  0.726460  0.719483  0.729837  2019-04-24\n",
       "1088  0.699313  0.693084  0.702608  2018-11-29\n",
       "612   0.701031  0.696074  0.704623  2017-05-08\n",
       "171   0.612829  0.604411  0.614127  2015-11-23\n",
       "...        ...       ...       ...         ...\n",
       "1321  0.868499  0.855370  0.870128  2019-09-08\n",
       "1377  0.833276  0.820679  0.833055  2019-11-12\n",
       "743   0.737285  0.728791  0.739681  2017-10-11\n",
       "1173  0.740779  0.729580  0.744574  2019-03-14\n",
       "1298  0.864376  0.853396  0.866502  2019-08-11\n",
       "\n",
       "[330 rows x 4 columns]"
      ]
     },
     "execution_count": 11,
     "metadata": {},
     "output_type": "execute_result"
    }
   ],
   "source": [
    "X_test2vals= MinMaxScaler().fit_transform(X_test[['Open', 'High', 'Low']])\n",
    "X_test2 = pd.DataFrame(X_test2vals, columns = ['Open', 'High', 'Low'])\n",
    "X_test2.index = X_test.index\n",
    "X_test2['Date']=(X_test['Date'])\n",
    "X_test2"
   ]
  },
  {
   "cell_type": "markdown",
   "metadata": {},
   "source": [
    "# Model Selection"
   ]
  },
  {
   "cell_type": "markdown",
   "metadata": {},
   "source": [
    "### Linear Regression"
   ]
  },
  {
   "cell_type": "code",
   "execution_count": 12,
   "metadata": {},
   "outputs": [],
   "source": [
    "from sklearn.linear_model import LinearRegression"
   ]
  },
  {
   "cell_type": "markdown",
   "metadata": {},
   "source": [
    "Unscaled"
   ]
  },
  {
   "cell_type": "code",
   "execution_count": 13,
   "metadata": {},
   "outputs": [
    {
     "name": "stdout",
     "output_type": "stream",
     "text": [
      "Test :  0.7147166655192421 \n",
      "Train:  0.758836560217734\n"
     ]
    }
   ],
   "source": [
    "linreg = LinearRegression().fit(X_train[['Open', 'High', 'Low']], y_train)\n",
    "print('Test : ',(linreg.score(X_test[['Open', 'High', 'Low']], y_test)),'\\nTrain: ',linreg.score(X_train[['Open', 'High', 'Low']], y_train))"
   ]
  },
  {
   "cell_type": "markdown",
   "metadata": {},
   "source": [
    "Scaled"
   ]
  },
  {
   "cell_type": "code",
   "execution_count": 14,
   "metadata": {},
   "outputs": [
    {
     "name": "stdout",
     "output_type": "stream",
     "text": [
      "Test :  0.7147664585412843 \n",
      "Train:  0.7588365602177342\n"
     ]
    }
   ],
   "source": [
    "linreg2 = LinearRegression().fit(X_train2[['Open', 'High', 'Low']], y_train)\n",
    "print('Test : ',(linreg2.score(X_test2[['Open', 'High', 'Low']], y_test)),'\\nTrain: ', linreg2.score(X_train2[['Open', 'High', 'Low']], y_train))"
   ]
  },
  {
   "cell_type": "markdown",
   "metadata": {},
   "source": [
    "### Decision Tree"
   ]
  },
  {
   "cell_type": "code",
   "execution_count": 15,
   "metadata": {},
   "outputs": [],
   "source": [
    "from sklearn.tree import DecisionTreeRegressor"
   ]
  },
  {
   "cell_type": "code",
   "execution_count": 16,
   "metadata": {},
   "outputs": [
    {
     "name": "stdout",
     "output_type": "stream",
     "text": [
      "Test :  0.9957507895683408 \n",
      "Train:  0.9993156783657124\n"
     ]
    }
   ],
   "source": [
    "dt = DecisionTreeRegressor().fit(X_train[['Open', 'High', 'Low']], y_train)\n",
    "print('Test : ',dt.score(X_test[['Open', 'High', 'Low']], y_test),'\\nTrain: ', dt.score(X_train[['Open', 'High', 'Low']], y_train))"
   ]
  },
  {
   "cell_type": "markdown",
   "metadata": {},
   "source": [
    "### Random Forest"
   ]
  },
  {
   "cell_type": "code",
   "execution_count": 17,
   "metadata": {},
   "outputs": [],
   "source": [
    "from sklearn.ensemble import RandomForestRegressor"
   ]
  },
  {
   "cell_type": "code",
   "execution_count": 18,
   "metadata": {},
   "outputs": [
    {
     "name": "stdout",
     "output_type": "stream",
     "text": [
      "Test :  0.9967879501839321 \n",
      "Train:  0.9979303388970285\n"
     ]
    }
   ],
   "source": [
    "rf = RandomForestRegressor(n_estimators = 100).fit(X_train[['Open', 'High', 'Low']], y_train)\n",
    "print('Test : ',rf.score(X_test[['Open', 'High', 'Low']], y_test),'\\nTrain: ', rf.score(X_train[['Open', 'High', 'Low']], y_train))"
   ]
  },
  {
   "cell_type": "markdown",
   "metadata": {},
   "source": [
    "### Neural Network"
   ]
  },
  {
   "cell_type": "code",
   "execution_count": 19,
   "metadata": {},
   "outputs": [],
   "source": [
    "from sklearn.neural_network import MLPRegressor"
   ]
  },
  {
   "cell_type": "markdown",
   "metadata": {},
   "source": [
    "Unscaled"
   ]
  },
  {
   "cell_type": "markdown",
   "metadata": {},
   "source": [
    "Adam"
   ]
  },
  {
   "cell_type": "code",
   "execution_count": 20,
   "metadata": {},
   "outputs": [
    {
     "name": "stdout",
     "output_type": "stream",
     "text": [
      "Test :  0.9933044738685809 \n",
      "Train:  0.992770853706325\n"
     ]
    }
   ],
   "source": [
    "nn1 = MLPRegressor(alpha= 0.002, solver= 'adam', max_iter=10000, random_state = 0).fit(X_train[['Open', 'High', 'Low']], y_train)\n",
    "print('Test : ',nn1.score(X_test[['Open', 'High', 'Low']], y_test),'\\nTrain: ', nn1.score(X_train[['Open', 'High', 'Low']], y_train))"
   ]
  },
  {
   "cell_type": "markdown",
   "metadata": {},
   "source": [
    "lbfgs"
   ]
  },
  {
   "cell_type": "code",
   "execution_count": 21,
   "metadata": {},
   "outputs": [
    {
     "name": "stdout",
     "output_type": "stream",
     "text": [
      "Test :  0.9984285967786968 \n",
      "Train:  0.9979803228911993\n"
     ]
    }
   ],
   "source": [
    "nn2 = MLPRegressor(alpha= 0.2, solver= 'lbfgs', max_iter=10000, random_state = 0).fit(X_train[['Open', 'High', 'Low']], y_train)\n",
    "print('Test : ',nn2.score(X_test[['Open', 'High', 'Low']], y_test),'\\nTrain: ', nn2.score(X_train[['Open', 'High', 'Low']], y_train))"
   ]
  },
  {
   "cell_type": "markdown",
   "metadata": {},
   "source": [
    "Scaled"
   ]
  },
  {
   "cell_type": "markdown",
   "metadata": {},
   "source": [
    "Adam"
   ]
  },
  {
   "cell_type": "code",
   "execution_count": 22,
   "metadata": {},
   "outputs": [
    {
     "name": "stdout",
     "output_type": "stream",
     "text": [
      "Test :  0.9878495766154054 \n",
      "Train:  0.9930867450497616\n"
     ]
    },
    {
     "name": "stderr",
     "output_type": "stream",
     "text": [
      "D:\\Program Files\\Anaconda\\lib\\site-packages\\sklearn\\neural_network\\multilayer_perceptron.py:566: ConvergenceWarning: Stochastic Optimizer: Maximum iterations (10000) reached and the optimization hasn't converged yet.\n",
      "  % self.max_iter, ConvergenceWarning)\n"
     ]
    }
   ],
   "source": [
    "nn3 = MLPRegressor(alpha= 0.2, solver= 'adam', max_iter=10000, random_state = 0).fit(X_train2[['Open', 'High', 'Low']], y_train)\n",
    "print('Test : ',nn3.score(X_test2[['Open', 'High', 'Low']], y_test),'\\nTrain: ', nn3.score(X_train2[['Open', 'High', 'Low']], y_train))"
   ]
  },
  {
   "cell_type": "markdown",
   "metadata": {},
   "source": [
    "lbfgs"
   ]
  },
  {
   "cell_type": "code",
   "execution_count": 23,
   "metadata": {},
   "outputs": [
    {
     "name": "stdout",
     "output_type": "stream",
     "text": [
      "Test :  0.9983736683725899 \n",
      "Train:  0.9979970696087453\n"
     ]
    }
   ],
   "source": [
    "nn4 = MLPRegressor(alpha= 0.2, solver= 'lbfgs', max_iter=10000, random_state = 0).fit(X_train2[['Open', 'High', 'Low']], y_train)\n",
    "print('Test : ',nn4.score(X_test2[['Open', 'High', 'Low']], y_test),'\\nTrain: ', nn4.score(X_train2[['Open', 'High', 'Low']], y_train))"
   ]
  },
  {
   "cell_type": "markdown",
   "metadata": {},
   "source": [
    "#### Unscaled lbfgs [nn2] performs the best on test case with score of 99.84%"
   ]
  },
  {
   "cell_type": "markdown",
   "metadata": {},
   "source": [
    "# Test on New Data"
   ]
  },
  {
   "cell_type": "code",
   "execution_count": 24,
   "metadata": {},
   "outputs": [
    {
     "data": {
      "text/html": [
       "<div>\n",
       "<style scoped>\n",
       "    .dataframe tbody tr th:only-of-type {\n",
       "        vertical-align: middle;\n",
       "    }\n",
       "\n",
       "    .dataframe tbody tr th {\n",
       "        vertical-align: top;\n",
       "    }\n",
       "\n",
       "    .dataframe thead th {\n",
       "        text-align: right;\n",
       "    }\n",
       "</style>\n",
       "<table border=\"1\" class=\"dataframe\">\n",
       "  <thead>\n",
       "    <tr style=\"text-align: right;\">\n",
       "      <th></th>\n",
       "      <th>Date</th>\n",
       "      <th>Open</th>\n",
       "      <th>High</th>\n",
       "      <th>Low</th>\n",
       "      <th>Close</th>\n",
       "      <th>Adj Close</th>\n",
       "      <th>Volume</th>\n",
       "    </tr>\n",
       "  </thead>\n",
       "  <tbody>\n",
       "    <tr>\n",
       "      <td>0</td>\n",
       "      <td>2014-05-02</td>\n",
       "      <td>1276.699951</td>\n",
       "      <td>1302.699951</td>\n",
       "      <td>1276.699951</td>\n",
       "      <td>1302.599976</td>\n",
       "      <td>1302.599976</td>\n",
       "      <td>25.0</td>\n",
       "    </tr>\n",
       "    <tr>\n",
       "      <td>2</td>\n",
       "      <td>2014-05-05</td>\n",
       "      <td>1305.599976</td>\n",
       "      <td>1314.199951</td>\n",
       "      <td>1305.500000</td>\n",
       "      <td>1309.000000</td>\n",
       "      <td>1309.000000</td>\n",
       "      <td>90.0</td>\n",
       "    </tr>\n",
       "    <tr>\n",
       "      <td>3</td>\n",
       "      <td>2014-05-06</td>\n",
       "      <td>1309.400024</td>\n",
       "      <td>1309.400024</td>\n",
       "      <td>1306.900024</td>\n",
       "      <td>1308.300049</td>\n",
       "      <td>1308.300049</td>\n",
       "      <td>31.0</td>\n",
       "    </tr>\n",
       "    <tr>\n",
       "      <td>4</td>\n",
       "      <td>2014-05-07</td>\n",
       "      <td>1310.300049</td>\n",
       "      <td>1312.000000</td>\n",
       "      <td>1288.000000</td>\n",
       "      <td>1288.599976</td>\n",
       "      <td>1288.599976</td>\n",
       "      <td>14.0</td>\n",
       "    </tr>\n",
       "    <tr>\n",
       "      <td>5</td>\n",
       "      <td>2014-05-08</td>\n",
       "      <td>1291.500000</td>\n",
       "      <td>1291.500000</td>\n",
       "      <td>1285.500000</td>\n",
       "      <td>1287.400024</td>\n",
       "      <td>1287.400024</td>\n",
       "      <td>21.0</td>\n",
       "    </tr>\n",
       "    <tr>\n",
       "      <td>...</td>\n",
       "      <td>...</td>\n",
       "      <td>...</td>\n",
       "      <td>...</td>\n",
       "      <td>...</td>\n",
       "      <td>...</td>\n",
       "      <td>...</td>\n",
       "      <td>...</td>\n",
       "    </tr>\n",
       "    <tr>\n",
       "      <td>299</td>\n",
       "      <td>2015-04-27</td>\n",
       "      <td>1182.300049</td>\n",
       "      <td>1206.699951</td>\n",
       "      <td>1181.400024</td>\n",
       "      <td>1203.300049</td>\n",
       "      <td>1203.300049</td>\n",
       "      <td>52.0</td>\n",
       "    </tr>\n",
       "    <tr>\n",
       "      <td>300</td>\n",
       "      <td>2015-04-28</td>\n",
       "      <td>1199.699951</td>\n",
       "      <td>1214.000000</td>\n",
       "      <td>1199.699951</td>\n",
       "      <td>1214.000000</td>\n",
       "      <td>1214.000000</td>\n",
       "      <td>194.0</td>\n",
       "    </tr>\n",
       "    <tr>\n",
       "      <td>301</td>\n",
       "      <td>2015-04-29</td>\n",
       "      <td>1211.199951</td>\n",
       "      <td>1212.599976</td>\n",
       "      <td>1201.900024</td>\n",
       "      <td>1209.800049</td>\n",
       "      <td>1209.800049</td>\n",
       "      <td>401.0</td>\n",
       "    </tr>\n",
       "    <tr>\n",
       "      <td>302</td>\n",
       "      <td>2015-04-30</td>\n",
       "      <td>1203.099976</td>\n",
       "      <td>1205.900024</td>\n",
       "      <td>1176.699951</td>\n",
       "      <td>1182.400024</td>\n",
       "      <td>1182.400024</td>\n",
       "      <td>114.0</td>\n",
       "    </tr>\n",
       "    <tr>\n",
       "      <td>303</td>\n",
       "      <td>2015-05-01</td>\n",
       "      <td>1178.099976</td>\n",
       "      <td>1178.099976</td>\n",
       "      <td>1170.000000</td>\n",
       "      <td>1174.500000</td>\n",
       "      <td>1174.500000</td>\n",
       "      <td>143.0</td>\n",
       "    </tr>\n",
       "  </tbody>\n",
       "</table>\n",
       "<p>249 rows × 7 columns</p>\n",
       "</div>"
      ],
      "text/plain": [
       "           Date         Open         High          Low        Close  \\\n",
       "0    2014-05-02  1276.699951  1302.699951  1276.699951  1302.599976   \n",
       "2    2014-05-05  1305.599976  1314.199951  1305.500000  1309.000000   \n",
       "3    2014-05-06  1309.400024  1309.400024  1306.900024  1308.300049   \n",
       "4    2014-05-07  1310.300049  1312.000000  1288.000000  1288.599976   \n",
       "5    2014-05-08  1291.500000  1291.500000  1285.500000  1287.400024   \n",
       "..          ...          ...          ...          ...          ...   \n",
       "299  2015-04-27  1182.300049  1206.699951  1181.400024  1203.300049   \n",
       "300  2015-04-28  1199.699951  1214.000000  1199.699951  1214.000000   \n",
       "301  2015-04-29  1211.199951  1212.599976  1201.900024  1209.800049   \n",
       "302  2015-04-30  1203.099976  1205.900024  1176.699951  1182.400024   \n",
       "303  2015-05-01  1178.099976  1178.099976  1170.000000  1174.500000   \n",
       "\n",
       "       Adj Close  Volume  \n",
       "0    1302.599976    25.0  \n",
       "2    1309.000000    90.0  \n",
       "3    1308.300049    31.0  \n",
       "4    1288.599976    14.0  \n",
       "5    1287.400024    21.0  \n",
       "..           ...     ...  \n",
       "299  1203.300049    52.0  \n",
       "300  1214.000000   194.0  \n",
       "301  1209.800049   401.0  \n",
       "302  1182.400024   114.0  \n",
       "303  1174.500000   143.0  \n",
       "\n",
       "[249 rows x 7 columns]"
      ]
     },
     "execution_count": 24,
     "metadata": {},
     "output_type": "execute_result"
    }
   ],
   "source": [
    "dfn= pd.read_csv('unseen.csv')\n",
    "dfn.dropna(inplace=True)\n",
    "dfn"
   ]
  },
  {
   "cell_type": "code",
   "execution_count": 25,
   "metadata": {},
   "outputs": [],
   "source": [
    "t=dfn[['Open', 'High', 'Low']]\n",
    "t_y= dfn['Close']"
   ]
  },
  {
   "cell_type": "code",
   "execution_count": 26,
   "metadata": {},
   "outputs": [
    {
     "name": "stdout",
     "output_type": "stream",
     "text": [
      "0.9920364744610523\n"
     ]
    }
   ],
   "source": [
    "print(nn2.score(t,t_y))"
   ]
  },
  {
   "cell_type": "code",
   "execution_count": 27,
   "metadata": {},
   "outputs": [
    {
     "data": {
      "image/png": "[encoded data removed]",
      "text/plain": [
       "<Figure size 864x432 with 1 Axes>"
      ]
     },
     "metadata": {
      "needs_background": "light"
     },
     "output_type": "display_data"
    }
   ],
   "source": [
    "plt.figure(figsize=(12,6))\n",
    "plt.plot(dfn['Close'].values, label=\"Original\")\n",
    "plt.plot(nn2.predict(t), c=\"r\", alpha=0.5, label=\"Neural Network\")\n",
    "# plt.plot(nn1.predict(t), c=\"g\", alpha=0.5)\n",
    "plt.xlabel('Date-->', fontsize=13, fontweight='bold')\n",
    "plt.ylabel('Close-->', fontsize=13, fontweight='bold')\n",
    "plt.title(\"Gold Price Close Prediction\", fontsize=17, fontweight='bold')\n",
    "plt.legend(loc=1, frameon=True, fontsize=15)\n",
    "plt.show();"
   ]
  }
 ],
 "metadata": {
  "kernelspec": {
   "display_name": "Python 3",
   "language": "python",
   "name": "python3"
  },
  "language_info": {
   "codemirror_mode": {
    "name": "ipython",
    "version": 3
   },
   "file_extension": ".py",
   "mimetype": "text/x-python",
   "name": "python",
   "nbconvert_exporter": "python",
   "pygments_lexer": "ipython3",
   "version": "3.7.4"
  }
 },
 "nbformat": 4,
 "nbformat_minor": 2
}
